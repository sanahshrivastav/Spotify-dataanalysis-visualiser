{
 "cells": [
  {
   "cell_type": "code",
   "execution_count": null,
   "id": "5de9b5f7",
   "metadata": {},
   "outputs": [],
   "source": [
    "# notebooks/train_sentiment_model.ipynb\n",
    "\n",
    "import pandas as pd\n",
    "from sklearn.model_selection import train_test_split\n",
    "from sklearn.feature_extraction.text import TfidfVectorizer\n",
    "from sklearn.linear_model import LogisticRegression\n",
    "import joblib\n",
    "\n",
    "# Sample small dataset (for demo)\n",
    "data = {\n",
    "    \"lyrics\": [\n",
    "        \"I love the way you smile\", \n",
    "        \"I hate everything about this\", \n",
    "        \"Life is beautiful and wonderful\",\n",
    "        \"This is the worst feeling ever\",\n",
    "        \"Dancing in the moonlight, feeling great\",\n",
    "        \"Everything is ruined and terrible\",\n",
    "        \"Such a lovely and amazing day\",\n",
    "        \"Broken hearts and shattered dreams\"\n",
    "    ],\n",
    "    \"sentiment\": [\n",
    "        \"Positive\",\n",
    "        \"Negative\",\n",
    "        \"Positive\",\n",
    "        \"Negative\",\n",
    "        \"Positive\",\n",
    "        \"Negative\",\n",
    "        \"Positive\",\n",
    "        \"Negative\"\n",
    "    ]\n",
    "}\n",
    "\n",
    "df = pd.DataFrame(data)\n",
    "\n",
    "# Preprocessing\n",
    "X = df['lyrics']\n",
    "y = df['sentiment']\n",
    "\n",
    "# Vectorization\n",
    "vectorizer = TfidfVectorizer(stop_words='english')\n",
    "X_vec = vectorizer.fit_transform(X)\n",
    "\n",
    "# Model training\n",
    "model = LogisticRegression()\n",
    "model.fit(X_vec, y)\n",
    "\n",
    "# Save the model and vectorizer\n",
    "joblib.dump(model, \"../models/sentiment_model.pkl\")\n",
    "joblib.dump(vectorizer, \"../models/vectorizer.pkl\")\n",
    "\n",
    "print(\"Model and Vectorizer saved!\")"
   ]
  }
 ],
 "metadata": {
  "kernelspec": {
   "display_name": "venv",
   "language": "python",
   "name": "python3"
  },
  "language_info": {
   "name": "python",
   "version": "3.13.1"
  }
 },
 "nbformat": 4,
 "nbformat_minor": 5
}
